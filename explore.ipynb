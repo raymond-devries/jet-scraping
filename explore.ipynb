{
 "cells": [
  {
   "cell_type": "code",
   "execution_count": 177,
   "metadata": {
    "collapsed": true
   },
   "outputs": [],
   "source": [
    "import pandas as pd\n",
    "import re\n",
    "import json\n",
    "import seaborn as sns"
   ]
  },
  {
   "cell_type": "code",
   "execution_count": 178,
   "metadata": {
    "pycharm": {
     "name": "#%%\n"
    }
   },
   "outputs": [],
   "source": [
    "jets = pd.read_json(\"jets.json\")\n",
    "details = pd.read_json(\"jet_details.json\")\n",
    "cleaned_data = pd.DataFrame()"
   ]
  },
  {
   "cell_type": "code",
   "execution_count": 179,
   "metadata": {
    "pycharm": {
     "name": "#%%\n"
    }
   },
   "outputs": [
    {
     "data": {
      "text/plain": "                                                 url  \\\n0                https://wikipedia.org/wiki/AD_Scout   \n1                https://wikipedia.org/wiki/ACAZ_C.2   \n2  https://wikipedia.org/wiki/Adamoli-Cattani_fig...   \n3     https://wikipedia.org/wiki/Aerfer_Sagittario_2   \n4                https://wikipedia.org/wiki/AEG_Dr.I   \n\n                                               image Crew  \\\n0                                                       1   \n1  https://www.wikipedia.org/wiki/File:ACAZ_C.2_(...    2   \n2  https://www.wikipedia.org/wiki/File:Adamoli-Ca...    1   \n3  https://www.wikipedia.org/wiki/File:Ambrosini_...    1   \n4  https://www.wikipedia.org/wiki/File:AEG_Dr.I_1...    1   \n\n                Length              Wingspan               Height  \\\n0  22 ft 9 in (6.93 m)  33 ft 5 in (10.19 m)  10 ft 3 in (3.12 m)   \n1  8.25 m (27 ft 1 in)   12.5 m (41 ft 0 in)   3.4 m (11 ft 2 in)   \n2  6.10 m (20 ft 0 in)   8.60 m (28 ft 3 in)                  NaN   \n3  9.50 m (31 ft 2 in)   7.50 m (24 ft 7 in)   2.02 m (6 ft 8 in)   \n4   6.1 m (20 ft 0 in)   9.4 m (30 ft 10 in)                  NaN   \n\n                                          Powerplant  \\\n0  1 × Gnome Monosoupape 9 Type B-2 9-cylinder ai...   \n1  1 × Hispano-Suiza 12Ha V-12 water-cooled pisto...   \n2  1 × le Rhône M 9-cyl. air-cooled rotary piston...   \n3  1 × Rolls-Royce Derwent 9 centrifugal-flow tur...   \n4  1 × Mercedes D.IIIa[2] 6-cyl water-cooled in-l...   \n\n                       Propellers                 Maximum speed  \\\n0  2-bladed fixed-pitch propeller  84 mph (135 km/h, 73 kn) [4]   \n1                             NaN    250 km/h (160 mph, 130 kn)   \n2                             NaN    186 km/h (116 mph, 100 kn)   \n3                             NaN  1,006 km/h (625 mph, 543 kn)   \n4                             NaN     170 km/h (110 mph, 92 kn)   \n\n                                       Range  ... izdeliye 30  \\\n0  210 mi (340 km, 180 nmi)[citation needed]  ...         NaN   \n1                                        NaN  ...         NaN   \n2                                        NaN  ...         NaN   \n3  765 km (475 mi, 413 nmi)[citation needed]  ...         NaN   \n4                                        NaN  ...         NaN   \n\n  Climb to 5,000 ft (1,520 m) Span wings folded Wing guns Forward firing guns  \\\n0                         NaN               NaN       NaN                 NaN   \n1                         NaN               NaN       NaN                 NaN   \n2                         NaN               NaN       NaN                 NaN   \n3                         NaN               NaN       NaN                 NaN   \n4                         NaN               NaN       NaN                 NaN   \n\n  Rear cockpit Anti-radiation missiles 360° turn Sustained turn time  \\\n0          NaN                     NaN       NaN                 NaN   \n1          NaN                     NaN       NaN                 NaN   \n2          NaN                     NaN       NaN                 NaN   \n3          NaN                     NaN       NaN                 NaN   \n4          NaN                     NaN       NaN                 NaN   \n\n  Upper Wing chord  \n0              NaN  \n1              NaN  \n2              NaN  \n3              NaN  \n4              NaN  \n\n[5 rows x 310 columns]",
      "text/html": "<div>\n<style scoped>\n    .dataframe tbody tr th:only-of-type {\n        vertical-align: middle;\n    }\n\n    .dataframe tbody tr th {\n        vertical-align: top;\n    }\n\n    .dataframe thead th {\n        text-align: right;\n    }\n</style>\n<table border=\"1\" class=\"dataframe\">\n  <thead>\n    <tr style=\"text-align: right;\">\n      <th></th>\n      <th>url</th>\n      <th>image</th>\n      <th>Crew</th>\n      <th>Length</th>\n      <th>Wingspan</th>\n      <th>Height</th>\n      <th>Powerplant</th>\n      <th>Propellers</th>\n      <th>Maximum speed</th>\n      <th>Range</th>\n      <th>...</th>\n      <th>izdeliye 30</th>\n      <th>Climb to 5,000 ft (1,520 m)</th>\n      <th>Span wings folded</th>\n      <th>Wing guns</th>\n      <th>Forward firing guns</th>\n      <th>Rear cockpit</th>\n      <th>Anti-radiation missiles</th>\n      <th>360° turn</th>\n      <th>Sustained turn time</th>\n      <th>Upper Wing chord</th>\n    </tr>\n  </thead>\n  <tbody>\n    <tr>\n      <th>0</th>\n      <td>https://wikipedia.org/wiki/AD_Scout</td>\n      <td></td>\n      <td>1</td>\n      <td>22 ft 9 in (6.93 m)</td>\n      <td>33 ft 5 in (10.19 m)</td>\n      <td>10 ft 3 in (3.12 m)</td>\n      <td>1 × Gnome Monosoupape 9 Type B-2 9-cylinder ai...</td>\n      <td>2-bladed fixed-pitch propeller</td>\n      <td>84 mph (135 km/h, 73 kn) [4]</td>\n      <td>210 mi (340 km, 180 nmi)[citation needed]</td>\n      <td>...</td>\n      <td>NaN</td>\n      <td>NaN</td>\n      <td>NaN</td>\n      <td>NaN</td>\n      <td>NaN</td>\n      <td>NaN</td>\n      <td>NaN</td>\n      <td>NaN</td>\n      <td>NaN</td>\n      <td>NaN</td>\n    </tr>\n    <tr>\n      <th>1</th>\n      <td>https://wikipedia.org/wiki/ACAZ_C.2</td>\n      <td>https://www.wikipedia.org/wiki/File:ACAZ_C.2_(...</td>\n      <td>2</td>\n      <td>8.25 m (27 ft 1 in)</td>\n      <td>12.5 m (41 ft 0 in)</td>\n      <td>3.4 m (11 ft 2 in)</td>\n      <td>1 × Hispano-Suiza 12Ha V-12 water-cooled pisto...</td>\n      <td>NaN</td>\n      <td>250 km/h (160 mph, 130 kn)</td>\n      <td>NaN</td>\n      <td>...</td>\n      <td>NaN</td>\n      <td>NaN</td>\n      <td>NaN</td>\n      <td>NaN</td>\n      <td>NaN</td>\n      <td>NaN</td>\n      <td>NaN</td>\n      <td>NaN</td>\n      <td>NaN</td>\n      <td>NaN</td>\n    </tr>\n    <tr>\n      <th>2</th>\n      <td>https://wikipedia.org/wiki/Adamoli-Cattani_fig...</td>\n      <td>https://www.wikipedia.org/wiki/File:Adamoli-Ca...</td>\n      <td>1</td>\n      <td>6.10 m (20 ft 0 in)</td>\n      <td>8.60 m (28 ft 3 in)</td>\n      <td>NaN</td>\n      <td>1 × le Rhône M 9-cyl. air-cooled rotary piston...</td>\n      <td>NaN</td>\n      <td>186 km/h (116 mph, 100 kn)</td>\n      <td>NaN</td>\n      <td>...</td>\n      <td>NaN</td>\n      <td>NaN</td>\n      <td>NaN</td>\n      <td>NaN</td>\n      <td>NaN</td>\n      <td>NaN</td>\n      <td>NaN</td>\n      <td>NaN</td>\n      <td>NaN</td>\n      <td>NaN</td>\n    </tr>\n    <tr>\n      <th>3</th>\n      <td>https://wikipedia.org/wiki/Aerfer_Sagittario_2</td>\n      <td>https://www.wikipedia.org/wiki/File:Ambrosini_...</td>\n      <td>1</td>\n      <td>9.50 m (31 ft 2 in)</td>\n      <td>7.50 m (24 ft 7 in)</td>\n      <td>2.02 m (6 ft 8 in)</td>\n      <td>1 × Rolls-Royce Derwent 9 centrifugal-flow tur...</td>\n      <td>NaN</td>\n      <td>1,006 km/h (625 mph, 543 kn)</td>\n      <td>765 km (475 mi, 413 nmi)[citation needed]</td>\n      <td>...</td>\n      <td>NaN</td>\n      <td>NaN</td>\n      <td>NaN</td>\n      <td>NaN</td>\n      <td>NaN</td>\n      <td>NaN</td>\n      <td>NaN</td>\n      <td>NaN</td>\n      <td>NaN</td>\n      <td>NaN</td>\n    </tr>\n    <tr>\n      <th>4</th>\n      <td>https://wikipedia.org/wiki/AEG_Dr.I</td>\n      <td>https://www.wikipedia.org/wiki/File:AEG_Dr.I_1...</td>\n      <td>1</td>\n      <td>6.1 m (20 ft 0 in)</td>\n      <td>9.4 m (30 ft 10 in)</td>\n      <td>NaN</td>\n      <td>1 × Mercedes D.IIIa[2] 6-cyl water-cooled in-l...</td>\n      <td>NaN</td>\n      <td>170 km/h (110 mph, 92 kn)</td>\n      <td>NaN</td>\n      <td>...</td>\n      <td>NaN</td>\n      <td>NaN</td>\n      <td>NaN</td>\n      <td>NaN</td>\n      <td>NaN</td>\n      <td>NaN</td>\n      <td>NaN</td>\n      <td>NaN</td>\n      <td>NaN</td>\n      <td>NaN</td>\n    </tr>\n  </tbody>\n</table>\n<p>5 rows × 310 columns</p>\n</div>"
     },
     "execution_count": 179,
     "metadata": {},
     "output_type": "execute_result"
    }
   ],
   "source": [
    "details.head()"
   ]
  },
  {
   "cell_type": "code",
   "execution_count": 180,
   "metadata": {
    "pycharm": {
     "name": "#%%\n"
    }
   },
   "outputs": [
    {
     "data": {
      "text/plain": "url                     0\nimage                   0\nPowerplant              5\nCrew                   22\nLength                 25\nMaximum speed          40\nWingspan               73\nWing area             114\nEmpty weight          131\nHeight                145\nGross weight          196\nService ceiling       276\nGuns                  421\nRange                 518\nPropellers            673\nRate of climb         698\nTime to altitude      737\nWing loading          852\nMax takeoff weight    855\nAirfoil               956\ndtype: int64"
     },
     "execution_count": 180,
     "metadata": {},
     "output_type": "execute_result"
    }
   ],
   "source": [
    "nans = details.isna().sum().sort_values()\n",
    "nans.head(20)"
   ]
  },
  {
   "cell_type": "code",
   "execution_count": 181,
   "metadata": {
    "pycharm": {
     "name": "#%%\n"
    }
   },
   "outputs": [],
   "source": [
    "one_two_matching = re.compile(\"((Two)|(One)|(\\d+))\", re.IGNORECASE)\n",
    "crew_cleaned = details[\"Crew\"].str.extract(one_two_matching)[0]\n",
    "\n",
    "one_regex = re.compile(\"(one)\", re.IGNORECASE)\n",
    "two_regex = re.compile(\"(two)\", re.IGNORECASE)\n",
    "crew_cleaned = crew_cleaned.replace(one_regex, 1)\n",
    "crew_cleaned = crew_cleaned.replace(two_regex, 2)\n",
    "\n",
    "crew_cleaned = pd.to_numeric(crew_cleaned)\n",
    "\n",
    "cleaned_data[\"Crew\"] = crew_cleaned\n"
   ]
  },
  {
   "cell_type": "code",
   "execution_count": 182,
   "outputs": [],
   "source": [
    "meter_regex = re.compile(\"(((\\d+)?.?(\\d+))(\\s*m))\", re.IGNORECASE)\n",
    "\n",
    "def get_meters(data: pd.Series):\n",
    "    data = data.str.extract(meter_regex)[1]\n",
    "    unwanted_chars = re.compile(\"[(),]\")\n",
    "    data = data.str.replace(unwanted_chars, \"\")\n",
    "    data = pd.to_numeric(data)\n",
    "    return data\n"
   ],
   "metadata": {
    "collapsed": false,
    "pycharm": {
     "name": "#%%\n"
    }
   }
  },
  {
   "cell_type": "code",
   "execution_count": 183,
   "outputs": [],
   "source": [
    "meter_columns = details[[\"Wing area\",\n",
    "                         \"Service ceiling\",\n",
    "                         \"Rate of climb\",\n",
    "                         \"Wingspan\",\n",
    "                         \"Height\",\n",
    "                         \"Length\"]].apply(get_meters)"
   ],
   "metadata": {
    "collapsed": false,
    "pycharm": {
     "name": "#%%\n"
    }
   }
  },
  {
   "cell_type": "code",
   "execution_count": 184,
   "outputs": [],
   "source": [
    "cleaned_data = pd.concat([cleaned_data, meter_columns], axis=1)"
   ],
   "metadata": {
    "collapsed": false,
    "pycharm": {
     "name": "#%%\n"
    }
   }
  },
  {
   "cell_type": "code",
   "execution_count": 185,
   "outputs": [],
   "source": [
    "raw_speed = details[\"Maximum speed\"]\n",
    "speed_extract = re.compile(\"(((\\d+)(.\\d+)?)(\\s*km/h))\", re.IGNORECASE)\n",
    "mach_extract = re.compile(\"(mach\\s*)((\\d+)(\\.\\d+)?)\", re.IGNORECASE)\n",
    "speed_kmh = raw_speed.str.extract(speed_extract)[1]\n",
    "speed_kmh = speed_kmh.str.replace(\",\", \"\")\n",
    "highest_speed_extract = re.compile(\"(\\d+)–\")\n",
    "speed_kmh = speed_kmh.str.replace(highest_speed_extract, \"\")\n",
    "speed_kmh = pd.to_numeric(speed_kmh)\n",
    "\n",
    "machs = pd.to_numeric(raw_speed.str.extract(mach_extract)[1])\n",
    "\n",
    "speed_kmh = speed_kmh.fillna(machs * 1234.8)\n",
    "\n",
    "cleaned_data[\"Maximum speed\"] = speed_kmh"
   ],
   "metadata": {
    "collapsed": false,
    "pycharm": {
     "name": "#%%\n"
    }
   }
  },
  {
   "cell_type": "code",
   "execution_count": 186,
   "outputs": [],
   "source": [
    "raw_weight = details[[\"Empty weight\", \"Gross weight\"]]\n",
    "\n",
    "weight_regex = re.compile(\"(((\\d+)(.\\d+)?)(\\s*kg))\", re.IGNORECASE)\n",
    "\n",
    "def get_weight(data: pd.Series):\n",
    "    data = data.str.extract(weight_regex)[1]\n",
    "    data = data.str.replace(\",\", \"\")\n",
    "    data = pd.to_numeric(data)\n",
    "    return data\n",
    "\n",
    "weight = raw_weight.apply(get_weight)\n",
    "cleaned_data = pd.concat([cleaned_data, weight], axis=1)"
   ],
   "metadata": {
    "collapsed": false,
    "pycharm": {
     "name": "#%%\n"
    }
   }
  },
  {
   "cell_type": "code",
   "execution_count": 187,
   "outputs": [
    {
     "data": {
      "text/plain": "   Crew  Wing area  Service ceiling  Rate of climb  Wingspan  Height  Length  \\\n0   1.0        NaN              NaN            NaN     10.19    3.12    6.93   \n1   2.0      40.56              NaN            NaN     12.50    3.40    8.25   \n2   1.0        NaN              NaN            NaN      8.60     NaN    6.10   \n3   1.0      14.73          14000.0           42.0      7.50    2.02    9.50   \n4   1.0        NaN              NaN            NaN      9.40     NaN    6.10   \n\n   Maximum speed  Empty weight  Gross weight  \n0          135.0           NaN           NaN  \n1          250.0        1260.0        2070.0  \n2          186.0         470.0         675.0  \n3         1006.0        2300.0        3293.0  \n4          170.0         710.0         970.0  ",
      "text/html": "<div>\n<style scoped>\n    .dataframe tbody tr th:only-of-type {\n        vertical-align: middle;\n    }\n\n    .dataframe tbody tr th {\n        vertical-align: top;\n    }\n\n    .dataframe thead th {\n        text-align: right;\n    }\n</style>\n<table border=\"1\" class=\"dataframe\">\n  <thead>\n    <tr style=\"text-align: right;\">\n      <th></th>\n      <th>Crew</th>\n      <th>Wing area</th>\n      <th>Service ceiling</th>\n      <th>Rate of climb</th>\n      <th>Wingspan</th>\n      <th>Height</th>\n      <th>Length</th>\n      <th>Maximum speed</th>\n      <th>Empty weight</th>\n      <th>Gross weight</th>\n    </tr>\n  </thead>\n  <tbody>\n    <tr>\n      <th>0</th>\n      <td>1.0</td>\n      <td>NaN</td>\n      <td>NaN</td>\n      <td>NaN</td>\n      <td>10.19</td>\n      <td>3.12</td>\n      <td>6.93</td>\n      <td>135.0</td>\n      <td>NaN</td>\n      <td>NaN</td>\n    </tr>\n    <tr>\n      <th>1</th>\n      <td>2.0</td>\n      <td>40.56</td>\n      <td>NaN</td>\n      <td>NaN</td>\n      <td>12.50</td>\n      <td>3.40</td>\n      <td>8.25</td>\n      <td>250.0</td>\n      <td>1260.0</td>\n      <td>2070.0</td>\n    </tr>\n    <tr>\n      <th>2</th>\n      <td>1.0</td>\n      <td>NaN</td>\n      <td>NaN</td>\n      <td>NaN</td>\n      <td>8.60</td>\n      <td>NaN</td>\n      <td>6.10</td>\n      <td>186.0</td>\n      <td>470.0</td>\n      <td>675.0</td>\n    </tr>\n    <tr>\n      <th>3</th>\n      <td>1.0</td>\n      <td>14.73</td>\n      <td>14000.0</td>\n      <td>42.0</td>\n      <td>7.50</td>\n      <td>2.02</td>\n      <td>9.50</td>\n      <td>1006.0</td>\n      <td>2300.0</td>\n      <td>3293.0</td>\n    </tr>\n    <tr>\n      <th>4</th>\n      <td>1.0</td>\n      <td>NaN</td>\n      <td>NaN</td>\n      <td>NaN</td>\n      <td>9.40</td>\n      <td>NaN</td>\n      <td>6.10</td>\n      <td>170.0</td>\n      <td>710.0</td>\n      <td>970.0</td>\n    </tr>\n  </tbody>\n</table>\n</div>"
     },
     "execution_count": 187,
     "metadata": {},
     "output_type": "execute_result"
    }
   ],
   "source": [
    "cleaned_data.head()"
   ],
   "metadata": {
    "collapsed": false,
    "pycharm": {
     "name": "#%%\n"
    }
   }
  },
  {
   "cell_type": "code",
   "execution_count": 188,
   "outputs": [],
   "source": [
    "cleaned_jets = pd.DataFrame()\n"
   ],
   "metadata": {
    "collapsed": false,
    "pycharm": {
     "name": "#%%\n"
    }
   }
  },
  {
   "cell_type": "code",
   "execution_count": 189,
   "outputs": [],
   "source": [
    "raw_number_created = jets[\"number created\"]\n",
    "number_extract = re.compile(\"((\\d+)(.\\d+)?)\")\n",
    "number_created = raw_number_created.str.extract(number_extract)[0]\n",
    "number_created = number_created.str.replace(\",\", \"\")\n",
    "number_created = pd.to_numeric(number_created)\n",
    "\n",
    "cleaned_jets[\"number created\"] = number_created"
   ],
   "metadata": {
    "collapsed": false,
    "pycharm": {
     "name": "#%%\n"
    }
   }
  },
  {
   "cell_type": "code",
   "source": [
    "raw_year = jets[\"year\"]\n",
    "year_regex = re.compile(\"(\\d+)\")\n",
    "year = raw_year.str.extract(year_regex)[0]\n",
    "year = pd.to_numeric(year)\n",
    "\n",
    "cleaned_jets[\"year\"] = year"
   ],
   "metadata": {
    "collapsed": false,
    "pycharm": {
     "name": "#%%\n"
    }
   },
   "execution_count": 190,
   "outputs": []
  },
  {
   "cell_type": "code",
   "execution_count": 191,
   "outputs": [
    {
     "data": {
      "text/plain": "   number created    year\n0             1.0  1926.0\n1             1.0  1918.0\n2             4.0  1915.0\n3             0.0     NaN\n4             3.0  1917.0",
      "text/html": "<div>\n<style scoped>\n    .dataframe tbody tr th:only-of-type {\n        vertical-align: middle;\n    }\n\n    .dataframe tbody tr th {\n        vertical-align: top;\n    }\n\n    .dataframe thead th {\n        text-align: right;\n    }\n</style>\n<table border=\"1\" class=\"dataframe\">\n  <thead>\n    <tr style=\"text-align: right;\">\n      <th></th>\n      <th>number created</th>\n      <th>year</th>\n    </tr>\n  </thead>\n  <tbody>\n    <tr>\n      <th>0</th>\n      <td>1.0</td>\n      <td>1926.0</td>\n    </tr>\n    <tr>\n      <th>1</th>\n      <td>1.0</td>\n      <td>1918.0</td>\n    </tr>\n    <tr>\n      <th>2</th>\n      <td>4.0</td>\n      <td>1915.0</td>\n    </tr>\n    <tr>\n      <th>3</th>\n      <td>0.0</td>\n      <td>NaN</td>\n    </tr>\n    <tr>\n      <th>4</th>\n      <td>3.0</td>\n      <td>1917.0</td>\n    </tr>\n  </tbody>\n</table>\n</div>"
     },
     "execution_count": 191,
     "metadata": {},
     "output_type": "execute_result"
    }
   ],
   "source": [
    "cleaned_jets.head()"
   ],
   "metadata": {
    "collapsed": false,
    "pycharm": {
     "name": "#%%\n"
    }
   }
  },
  {
   "cell_type": "code",
   "execution_count": 192,
   "outputs": [],
   "source": [
    "cleaned_jets = pd.concat([cleaned_jets, jets.drop([\"year\", \"number created\"], axis=1)], axis=1)\n",
    "clean = pd.concat([cleaned_jets, cleaned_data], axis=1)"
   ],
   "metadata": {
    "collapsed": false,
    "pycharm": {
     "name": "#%%\n"
    }
   }
  },
  {
   "cell_type": "code",
   "execution_count": 193,
   "outputs": [
    {
     "data": {
      "text/plain": "   number created    year                                                url  \\\n0             1.0  1926.0                https://wikipedia.org/wiki/ACAZ_C.2   \n1             1.0  1918.0  https://wikipedia.org/wiki/Adamoli-Cattani_fig...   \n2             4.0  1915.0                https://wikipedia.org/wiki/AD_Scout   \n3             0.0     NaN  https://wikipedia.org/wiki/ADA/HAL_Advanced_Me...   \n4             3.0  1917.0  https://wikipedia.org/wiki/AEG_D.I,_D.II_%26_D...   \n\n                                      name  country class     status  \\\n0                                 ACAZ C.2  Belgium        Prototype   \n1                  Adamoli-Cattani fighter    Italy        Prototype   \n2                                 AD Scout       UK        Prototype   \n3  ADA/HAL Advanced Medium Combat Aircraft    India          Project   \n4                    AEG D.I, D.II & D.III  Germany        Prototype   \n\n              notes  Crew  Wing area  Service ceiling  Rate of climb  \\\n0  Two-seat fighter   1.0        NaN              NaN            NaN   \n1                     2.0      40.56              NaN            NaN   \n2                     1.0        NaN              NaN            NaN   \n3               [1]   1.0      14.73          14000.0           42.0   \n4                     1.0        NaN              NaN            NaN   \n\n   Wingspan  Height  Length  Maximum speed  Empty weight  Gross weight  \n0     10.19    3.12    6.93          135.0           NaN           NaN  \n1     12.50    3.40    8.25          250.0        1260.0        2070.0  \n2      8.60     NaN    6.10          186.0         470.0         675.0  \n3      7.50    2.02    9.50         1006.0        2300.0        3293.0  \n4      9.40     NaN    6.10          170.0         710.0         970.0  ",
      "text/html": "<div>\n<style scoped>\n    .dataframe tbody tr th:only-of-type {\n        vertical-align: middle;\n    }\n\n    .dataframe tbody tr th {\n        vertical-align: top;\n    }\n\n    .dataframe thead th {\n        text-align: right;\n    }\n</style>\n<table border=\"1\" class=\"dataframe\">\n  <thead>\n    <tr style=\"text-align: right;\">\n      <th></th>\n      <th>number created</th>\n      <th>year</th>\n      <th>url</th>\n      <th>name</th>\n      <th>country</th>\n      <th>class</th>\n      <th>status</th>\n      <th>notes</th>\n      <th>Crew</th>\n      <th>Wing area</th>\n      <th>Service ceiling</th>\n      <th>Rate of climb</th>\n      <th>Wingspan</th>\n      <th>Height</th>\n      <th>Length</th>\n      <th>Maximum speed</th>\n      <th>Empty weight</th>\n      <th>Gross weight</th>\n    </tr>\n  </thead>\n  <tbody>\n    <tr>\n      <th>0</th>\n      <td>1.0</td>\n      <td>1926.0</td>\n      <td>https://wikipedia.org/wiki/ACAZ_C.2</td>\n      <td>ACAZ C.2</td>\n      <td>Belgium</td>\n      <td></td>\n      <td>Prototype</td>\n      <td>Two-seat fighter</td>\n      <td>1.0</td>\n      <td>NaN</td>\n      <td>NaN</td>\n      <td>NaN</td>\n      <td>10.19</td>\n      <td>3.12</td>\n      <td>6.93</td>\n      <td>135.0</td>\n      <td>NaN</td>\n      <td>NaN</td>\n    </tr>\n    <tr>\n      <th>1</th>\n      <td>1.0</td>\n      <td>1918.0</td>\n      <td>https://wikipedia.org/wiki/Adamoli-Cattani_fig...</td>\n      <td>Adamoli-Cattani fighter</td>\n      <td>Italy</td>\n      <td></td>\n      <td>Prototype</td>\n      <td></td>\n      <td>2.0</td>\n      <td>40.56</td>\n      <td>NaN</td>\n      <td>NaN</td>\n      <td>12.50</td>\n      <td>3.40</td>\n      <td>8.25</td>\n      <td>250.0</td>\n      <td>1260.0</td>\n      <td>2070.0</td>\n    </tr>\n    <tr>\n      <th>2</th>\n      <td>4.0</td>\n      <td>1915.0</td>\n      <td>https://wikipedia.org/wiki/AD_Scout</td>\n      <td>AD Scout</td>\n      <td>UK</td>\n      <td></td>\n      <td>Prototype</td>\n      <td></td>\n      <td>1.0</td>\n      <td>NaN</td>\n      <td>NaN</td>\n      <td>NaN</td>\n      <td>8.60</td>\n      <td>NaN</td>\n      <td>6.10</td>\n      <td>186.0</td>\n      <td>470.0</td>\n      <td>675.0</td>\n    </tr>\n    <tr>\n      <th>3</th>\n      <td>0.0</td>\n      <td>NaN</td>\n      <td>https://wikipedia.org/wiki/ADA/HAL_Advanced_Me...</td>\n      <td>ADA/HAL Advanced Medium Combat Aircraft</td>\n      <td>India</td>\n      <td></td>\n      <td>Project</td>\n      <td>[1]</td>\n      <td>1.0</td>\n      <td>14.73</td>\n      <td>14000.0</td>\n      <td>42.0</td>\n      <td>7.50</td>\n      <td>2.02</td>\n      <td>9.50</td>\n      <td>1006.0</td>\n      <td>2300.0</td>\n      <td>3293.0</td>\n    </tr>\n    <tr>\n      <th>4</th>\n      <td>3.0</td>\n      <td>1917.0</td>\n      <td>https://wikipedia.org/wiki/AEG_D.I,_D.II_%26_D...</td>\n      <td>AEG D.I, D.II &amp; D.III</td>\n      <td>Germany</td>\n      <td></td>\n      <td>Prototype</td>\n      <td></td>\n      <td>1.0</td>\n      <td>NaN</td>\n      <td>NaN</td>\n      <td>NaN</td>\n      <td>9.40</td>\n      <td>NaN</td>\n      <td>6.10</td>\n      <td>170.0</td>\n      <td>710.0</td>\n      <td>970.0</td>\n    </tr>\n  </tbody>\n</table>\n</div>"
     },
     "execution_count": 193,
     "metadata": {},
     "output_type": "execute_result"
    }
   ],
   "source": [
    "clean.head()"
   ],
   "metadata": {
    "collapsed": false,
    "pycharm": {
     "name": "#%%\n"
    }
   }
  },
  {
   "cell_type": "code",
   "execution_count": 194,
   "outputs": [
    {
     "data": {
      "text/plain": "       number created         year         Crew    Wing area  Service ceiling  \\\ncount     1301.000000  1297.000000  1203.000000  1112.000000       952.000000   \nmean       501.133743  1934.447186     1.254364    27.485190      9882.610399   \nstd       2108.037816    18.424995     0.739972    13.549233      4159.155675   \nmin          0.000000  1913.000000     1.000000     4.700000       997.400000   \n25%          1.000000  1918.000000     1.000000    19.000000      7000.000000   \n50%          3.000000  1932.000000     1.000000    23.720000      9250.000000   \n75%        117.000000  1943.000000     1.000000    32.000000     12000.000000   \nmax      33984.000000  2016.000000    18.000000   167.000000     27400.000000   \n\n       Rate of climb     Wingspan       Height       Length  Maximum speed  \\\ncount     526.000000  1154.000000  1082.000000  1203.000000    1177.000000   \nmean       46.486741    10.956728     3.422509     9.506616     584.140805   \nstd        84.257575     2.715598     1.023847     3.779766     598.997532   \nmin         0.110000     4.000000     1.100000     4.260000     106.000000   \n25%         7.500000     9.140000     2.760000     7.010000     220.000000   \n50%        14.000000    10.500000     3.145000     8.200000     342.000000   \n75%        34.300000    12.000000     3.840000    10.820000     650.000000   \nmax      1005.000000    25.000000    16.080000    30.970000    3661.000000   \n\n       Empty weight  Gross weight  \ncount   1098.000000   1033.000000  \nmean    2965.603825   4089.244918  \nstd     3701.066478   5598.639628  \nmin      129.000000    223.000000  \n25%      835.000000   1150.000000  \n50%     1362.500000   1846.000000  \n75%     3698.250000   4697.000000  \nmax    27604.000000  56200.000000  ",
      "text/html": "<div>\n<style scoped>\n    .dataframe tbody tr th:only-of-type {\n        vertical-align: middle;\n    }\n\n    .dataframe tbody tr th {\n        vertical-align: top;\n    }\n\n    .dataframe thead th {\n        text-align: right;\n    }\n</style>\n<table border=\"1\" class=\"dataframe\">\n  <thead>\n    <tr style=\"text-align: right;\">\n      <th></th>\n      <th>number created</th>\n      <th>year</th>\n      <th>Crew</th>\n      <th>Wing area</th>\n      <th>Service ceiling</th>\n      <th>Rate of climb</th>\n      <th>Wingspan</th>\n      <th>Height</th>\n      <th>Length</th>\n      <th>Maximum speed</th>\n      <th>Empty weight</th>\n      <th>Gross weight</th>\n    </tr>\n  </thead>\n  <tbody>\n    <tr>\n      <th>count</th>\n      <td>1301.000000</td>\n      <td>1297.000000</td>\n      <td>1203.000000</td>\n      <td>1112.000000</td>\n      <td>952.000000</td>\n      <td>526.000000</td>\n      <td>1154.000000</td>\n      <td>1082.000000</td>\n      <td>1203.000000</td>\n      <td>1177.000000</td>\n      <td>1098.000000</td>\n      <td>1033.000000</td>\n    </tr>\n    <tr>\n      <th>mean</th>\n      <td>501.133743</td>\n      <td>1934.447186</td>\n      <td>1.254364</td>\n      <td>27.485190</td>\n      <td>9882.610399</td>\n      <td>46.486741</td>\n      <td>10.956728</td>\n      <td>3.422509</td>\n      <td>9.506616</td>\n      <td>584.140805</td>\n      <td>2965.603825</td>\n      <td>4089.244918</td>\n    </tr>\n    <tr>\n      <th>std</th>\n      <td>2108.037816</td>\n      <td>18.424995</td>\n      <td>0.739972</td>\n      <td>13.549233</td>\n      <td>4159.155675</td>\n      <td>84.257575</td>\n      <td>2.715598</td>\n      <td>1.023847</td>\n      <td>3.779766</td>\n      <td>598.997532</td>\n      <td>3701.066478</td>\n      <td>5598.639628</td>\n    </tr>\n    <tr>\n      <th>min</th>\n      <td>0.000000</td>\n      <td>1913.000000</td>\n      <td>1.000000</td>\n      <td>4.700000</td>\n      <td>997.400000</td>\n      <td>0.110000</td>\n      <td>4.000000</td>\n      <td>1.100000</td>\n      <td>4.260000</td>\n      <td>106.000000</td>\n      <td>129.000000</td>\n      <td>223.000000</td>\n    </tr>\n    <tr>\n      <th>25%</th>\n      <td>1.000000</td>\n      <td>1918.000000</td>\n      <td>1.000000</td>\n      <td>19.000000</td>\n      <td>7000.000000</td>\n      <td>7.500000</td>\n      <td>9.140000</td>\n      <td>2.760000</td>\n      <td>7.010000</td>\n      <td>220.000000</td>\n      <td>835.000000</td>\n      <td>1150.000000</td>\n    </tr>\n    <tr>\n      <th>50%</th>\n      <td>3.000000</td>\n      <td>1932.000000</td>\n      <td>1.000000</td>\n      <td>23.720000</td>\n      <td>9250.000000</td>\n      <td>14.000000</td>\n      <td>10.500000</td>\n      <td>3.145000</td>\n      <td>8.200000</td>\n      <td>342.000000</td>\n      <td>1362.500000</td>\n      <td>1846.000000</td>\n    </tr>\n    <tr>\n      <th>75%</th>\n      <td>117.000000</td>\n      <td>1943.000000</td>\n      <td>1.000000</td>\n      <td>32.000000</td>\n      <td>12000.000000</td>\n      <td>34.300000</td>\n      <td>12.000000</td>\n      <td>3.840000</td>\n      <td>10.820000</td>\n      <td>650.000000</td>\n      <td>3698.250000</td>\n      <td>4697.000000</td>\n    </tr>\n    <tr>\n      <th>max</th>\n      <td>33984.000000</td>\n      <td>2016.000000</td>\n      <td>18.000000</td>\n      <td>167.000000</td>\n      <td>27400.000000</td>\n      <td>1005.000000</td>\n      <td>25.000000</td>\n      <td>16.080000</td>\n      <td>30.970000</td>\n      <td>3661.000000</td>\n      <td>27604.000000</td>\n      <td>56200.000000</td>\n    </tr>\n  </tbody>\n</table>\n</div>"
     },
     "execution_count": 194,
     "metadata": {},
     "output_type": "execute_result"
    }
   ],
   "source": [
    "clean.describe()"
   ],
   "metadata": {
    "collapsed": false,
    "pycharm": {
     "name": "#%%\n"
    }
   }
  },
  {
   "cell_type": "code",
   "execution_count": 195,
   "outputs": [
    {
     "data": {
      "text/plain": "<seaborn.axisgrid.FacetGrid at 0x126835310>"
     },
     "execution_count": 195,
     "metadata": {},
     "output_type": "execute_result"
    },
    {
     "data": {
      "text/plain": "<Figure size 360x360 with 1 Axes>",
      "image/png": "[encoded data removed]"
     },
     "metadata": {
      "needs_background": "light"
     },
     "output_type": "display_data"
    }
   ],
   "source": [
    "sns.relplot(x=\"year\", y=\"Maximum speed\", data=clean)"
   ],
   "metadata": {
    "collapsed": false,
    "pycharm": {
     "name": "#%%\n"
    }
   }
  },
  {
   "cell_type": "code",
   "execution_count": 199,
   "outputs": [
    {
     "data": {
      "text/plain": "     number created    year                                             url  \\\n21            291.0  1916.0        https://wikipedia.org/wiki/Albatros_D.II   \n111             NaN  1916.0             https://wikipedia.org/wiki/Avro_504   \n238             1.0  1938.0       https://wikipedia.org/wiki/Caproni_Ca.165   \n241             1.0  1939.0       https://wikipedia.org/wiki/Caproni_Ca.335   \n244            14.0  1939.0  https://wikipedia.org/wiki/Caproni_Vizzola_F.5   \n\n                    name  country class      status  \\\n21         Albatros D.II  Germany        Production   \n111             Avro 504       UK        Production   \n238       Caproni Ca.165    Italy         Prototype   \n241       Caproni Ca.335    Italy         Prototype   \n244  Caproni Vizzola F.5    Italy        Production   \n\n                                notes  Crew  Wing area  Service ceiling  \\\n21                                      1.0      24.20          16800.0   \n111  modified as Zeppelin interceptor   2.0     113.80          16000.0   \n238                                     1.0      55.70              NaN   \n241                                     1.0      33.00          18000.0   \n244                                     1.0      24.88          17500.0   \n\n     Rate of climb  Wingspan  Height  Length  Maximum speed  Empty weight  \\\n21             NaN      9.00    4.42  14.480        2220.00        6500.0   \n111            NaN     15.00    6.45  23.700        2104.00       22244.0   \n238          220.0     14.37    4.58  18.240        3087.00       13000.0   \n241            NaN      9.75    5.43  16.430        2716.56        9750.0   \n244          195.0      8.32    4.11  14.884        2200.00        5292.0   \n\n     Gross weight  \n21         9072.0  \n111       25818.0  \n238       17000.0  \n241       12400.0  \n244        7540.0  ",
      "text/html": "<div>\n<style scoped>\n    .dataframe tbody tr th:only-of-type {\n        vertical-align: middle;\n    }\n\n    .dataframe tbody tr th {\n        vertical-align: top;\n    }\n\n    .dataframe thead th {\n        text-align: right;\n    }\n</style>\n<table border=\"1\" class=\"dataframe\">\n  <thead>\n    <tr style=\"text-align: right;\">\n      <th></th>\n      <th>number created</th>\n      <th>year</th>\n      <th>url</th>\n      <th>name</th>\n      <th>country</th>\n      <th>class</th>\n      <th>status</th>\n      <th>notes</th>\n      <th>Crew</th>\n      <th>Wing area</th>\n      <th>Service ceiling</th>\n      <th>Rate of climb</th>\n      <th>Wingspan</th>\n      <th>Height</th>\n      <th>Length</th>\n      <th>Maximum speed</th>\n      <th>Empty weight</th>\n      <th>Gross weight</th>\n    </tr>\n  </thead>\n  <tbody>\n    <tr>\n      <th>21</th>\n      <td>291.0</td>\n      <td>1916.0</td>\n      <td>https://wikipedia.org/wiki/Albatros_D.II</td>\n      <td>Albatros D.II</td>\n      <td>Germany</td>\n      <td></td>\n      <td>Production</td>\n      <td></td>\n      <td>1.0</td>\n      <td>24.20</td>\n      <td>16800.0</td>\n      <td>NaN</td>\n      <td>9.00</td>\n      <td>4.42</td>\n      <td>14.480</td>\n      <td>2220.00</td>\n      <td>6500.0</td>\n      <td>9072.0</td>\n    </tr>\n    <tr>\n      <th>111</th>\n      <td>NaN</td>\n      <td>1916.0</td>\n      <td>https://wikipedia.org/wiki/Avro_504</td>\n      <td>Avro 504</td>\n      <td>UK</td>\n      <td></td>\n      <td>Production</td>\n      <td>modified as Zeppelin interceptor</td>\n      <td>2.0</td>\n      <td>113.80</td>\n      <td>16000.0</td>\n      <td>NaN</td>\n      <td>15.00</td>\n      <td>6.45</td>\n      <td>23.700</td>\n      <td>2104.00</td>\n      <td>22244.0</td>\n      <td>25818.0</td>\n    </tr>\n    <tr>\n      <th>238</th>\n      <td>1.0</td>\n      <td>1938.0</td>\n      <td>https://wikipedia.org/wiki/Caproni_Ca.165</td>\n      <td>Caproni Ca.165</td>\n      <td>Italy</td>\n      <td></td>\n      <td>Prototype</td>\n      <td></td>\n      <td>1.0</td>\n      <td>55.70</td>\n      <td>NaN</td>\n      <td>220.0</td>\n      <td>14.37</td>\n      <td>4.58</td>\n      <td>18.240</td>\n      <td>3087.00</td>\n      <td>13000.0</td>\n      <td>17000.0</td>\n    </tr>\n    <tr>\n      <th>241</th>\n      <td>1.0</td>\n      <td>1939.0</td>\n      <td>https://wikipedia.org/wiki/Caproni_Ca.335</td>\n      <td>Caproni Ca.335</td>\n      <td>Italy</td>\n      <td></td>\n      <td>Prototype</td>\n      <td></td>\n      <td>1.0</td>\n      <td>33.00</td>\n      <td>18000.0</td>\n      <td>NaN</td>\n      <td>9.75</td>\n      <td>5.43</td>\n      <td>16.430</td>\n      <td>2716.56</td>\n      <td>9750.0</td>\n      <td>12400.0</td>\n    </tr>\n    <tr>\n      <th>244</th>\n      <td>14.0</td>\n      <td>1939.0</td>\n      <td>https://wikipedia.org/wiki/Caproni_Vizzola_F.5</td>\n      <td>Caproni Vizzola F.5</td>\n      <td>Italy</td>\n      <td></td>\n      <td>Production</td>\n      <td></td>\n      <td>1.0</td>\n      <td>24.88</td>\n      <td>17500.0</td>\n      <td>195.0</td>\n      <td>8.32</td>\n      <td>4.11</td>\n      <td>14.884</td>\n      <td>2200.00</td>\n      <td>5292.0</td>\n      <td>7540.0</td>\n    </tr>\n  </tbody>\n</table>\n</div>"
     },
     "execution_count": 199,
     "metadata": {},
     "output_type": "execute_result"
    }
   ],
   "source": [
    "stuff = clean[clean[\"year\"] < 1940]\n",
    "stuff[stuff[\"Maximum speed\"] > 2000].head(5)"
   ],
   "metadata": {
    "collapsed": false,
    "pycharm": {
     "name": "#%%\n"
    }
   }
  },
  {
   "cell_type": "code",
   "execution_count": null,
   "outputs": [],
   "source": [
    "with open(\"jet_details.json\") as f:\n",
    "    og_detail_data = json.load(f)\n"
   ],
   "metadata": {
    "collapsed": false,
    "pycharm": {
     "name": "#%%\n"
    }
   }
  },
  {
   "cell_type": "code",
   "execution_count": null,
   "outputs": [],
   "source": [
    "all_data = []\n",
    "for item in og_detail_data:\n",
    "    data_to_add = clean[clean[\"url\"] == item[\"url\"]].to_dict(\"records\")\n",
    "    if len(data_to_add) > 0:\n",
    "        item.update(data_to_add[0])\n",
    "        all_data.append(item)"
   ],
   "metadata": {
    "collapsed": false,
    "pycharm": {
     "name": "#%%\n"
    }
   }
  },
  {
   "cell_type": "code",
   "execution_count": null,
   "outputs": [],
   "source": [
    "with open('final_jet_data.json', 'w', encoding='utf-8') as f:\n",
    "    json.dump(all_data, f, ensure_ascii=False, indent=4)"
   ],
   "metadata": {
    "collapsed": false,
    "pycharm": {
     "name": "#%%\n"
    }
   }
  }
 ],
 "metadata": {
  "kernelspec": {
   "display_name": "Python 3",
   "language": "python",
   "name": "python3"
  },
  "language_info": {
   "codemirror_mode": {
    "name": "ipython",
    "version": 3
   },
   "file_extension": ".py",
   "mimetype": "text/x-python",
   "name": "python",
   "nbconvert_exporter": "python",
   "pygments_lexer": "ipython3",
   "version": "3.8.5"
  }
 },
 "nbformat": 4,
 "nbformat_minor": 1
}