{
 "cells": [
  {
   "cell_type": "code",
   "execution_count": 91,
   "metadata": {
    "collapsed": true
   },
   "outputs": [],
   "source": [
    "import pandas as pd\n",
    "import re\n",
    "import json\n",
    "import numpy as np"
   ]
  },
  {
   "cell_type": "code",
   "execution_count": 92,
   "metadata": {
    "pycharm": {
     "name": "#%%\n"
    }
   },
   "outputs": [],
   "source": [
    "jets = pd.read_json(\"jets.json\")\n",
    "details = pd.read_json(\"jet_details.json\")\n",
    "cleaned_data = pd.DataFrame()"
   ]
  },
  {
   "cell_type": "code",
   "execution_count": 93,
   "metadata": {
    "pycharm": {
     "name": "#%%\n"
    }
   },
   "outputs": [
    {
     "data": {
      "text/plain": "                                                 url  \\\n0                https://wikipedia.org/wiki/AD_Scout   \n1                https://wikipedia.org/wiki/ACAZ_C.2   \n2  https://wikipedia.org/wiki/Adamoli-Cattani_fig...   \n3     https://wikipedia.org/wiki/Aerfer_Sagittario_2   \n4                https://wikipedia.org/wiki/AEG_Dr.I   \n\n                                               image Crew  \\\n0                                                       1   \n1  https://www.wikipedia.org/wiki/File:ACAZ_C.2_(...    2   \n2  https://www.wikipedia.org/wiki/File:Adamoli-Ca...    1   \n3  https://www.wikipedia.org/wiki/File:Ambrosini_...    1   \n4  https://www.wikipedia.org/wiki/File:AEG_Dr.I_1...    1   \n\n                Length              Wingspan               Height  \\\n0  22 ft 9 in (6.93 m)  33 ft 5 in (10.19 m)  10 ft 3 in (3.12 m)   \n1  8.25 m (27 ft 1 in)   12.5 m (41 ft 0 in)   3.4 m (11 ft 2 in)   \n2  6.10 m (20 ft 0 in)   8.60 m (28 ft 3 in)                  NaN   \n3  9.50 m (31 ft 2 in)   7.50 m (24 ft 7 in)   2.02 m (6 ft 8 in)   \n4   6.1 m (20 ft 0 in)   9.4 m (30 ft 10 in)                  NaN   \n\n                                          Powerplant  \\\n0  1 × Gnome Monosoupape 9 Type B-2 9-cylinder ai...   \n1  1 × Hispano-Suiza 12Ha V-12 water-cooled pisto...   \n2  1 × le Rhône M 9-cyl. air-cooled rotary piston...   \n3  1 × Rolls-Royce Derwent 9 centrifugal-flow tur...   \n4  1 × Mercedes D.IIIa[2] 6-cyl water-cooled in-l...   \n\n                       Propellers                 Maximum speed  \\\n0  2-bladed fixed-pitch propeller  84 mph (135 km/h, 73 kn) [4]   \n1                             NaN    250 km/h (160 mph, 130 kn)   \n2                             NaN    186 km/h (116 mph, 100 kn)   \n3                             NaN  1,006 km/h (625 mph, 543 kn)   \n4                             NaN     170 km/h (110 mph, 92 kn)   \n\n                                       Range  ... izdeliye 30  \\\n0  210 mi (340 km, 180 nmi)[citation needed]  ...         NaN   \n1                                        NaN  ...         NaN   \n2                                        NaN  ...         NaN   \n3  765 km (475 mi, 413 nmi)[citation needed]  ...         NaN   \n4                                        NaN  ...         NaN   \n\n  Climb to 5,000 ft (1,520 m) Span wings folded Wing guns Forward firing guns  \\\n0                         NaN               NaN       NaN                 NaN   \n1                         NaN               NaN       NaN                 NaN   \n2                         NaN               NaN       NaN                 NaN   \n3                         NaN               NaN       NaN                 NaN   \n4                         NaN               NaN       NaN                 NaN   \n\n  Rear cockpit Anti-radiation missiles 360° turn Sustained turn time  \\\n0          NaN                     NaN       NaN                 NaN   \n1          NaN                     NaN       NaN                 NaN   \n2          NaN                     NaN       NaN                 NaN   \n3          NaN                     NaN       NaN                 NaN   \n4          NaN                     NaN       NaN                 NaN   \n\n  Upper Wing chord  \n0              NaN  \n1              NaN  \n2              NaN  \n3              NaN  \n4              NaN  \n\n[5 rows x 310 columns]",
      "text/html": "<div>\n<style scoped>\n    .dataframe tbody tr th:only-of-type {\n        vertical-align: middle;\n    }\n\n    .dataframe tbody tr th {\n        vertical-align: top;\n    }\n\n    .dataframe thead th {\n        text-align: right;\n    }\n</style>\n<table border=\"1\" class=\"dataframe\">\n  <thead>\n    <tr style=\"text-align: right;\">\n      <th></th>\n      <th>url</th>\n      <th>image</th>\n      <th>Crew</th>\n      <th>Length</th>\n      <th>Wingspan</th>\n      <th>Height</th>\n      <th>Powerplant</th>\n      <th>Propellers</th>\n      <th>Maximum speed</th>\n      <th>Range</th>\n      <th>...</th>\n      <th>izdeliye 30</th>\n      <th>Climb to 5,000 ft (1,520 m)</th>\n      <th>Span wings folded</th>\n      <th>Wing guns</th>\n      <th>Forward firing guns</th>\n      <th>Rear cockpit</th>\n      <th>Anti-radiation missiles</th>\n      <th>360° turn</th>\n      <th>Sustained turn time</th>\n      <th>Upper Wing chord</th>\n    </tr>\n  </thead>\n  <tbody>\n    <tr>\n      <th>0</th>\n      <td>https://wikipedia.org/wiki/AD_Scout</td>\n      <td></td>\n      <td>1</td>\n      <td>22 ft 9 in (6.93 m)</td>\n      <td>33 ft 5 in (10.19 m)</td>\n      <td>10 ft 3 in (3.12 m)</td>\n      <td>1 × Gnome Monosoupape 9 Type B-2 9-cylinder ai...</td>\n      <td>2-bladed fixed-pitch propeller</td>\n      <td>84 mph (135 km/h, 73 kn) [4]</td>\n      <td>210 mi (340 km, 180 nmi)[citation needed]</td>\n      <td>...</td>\n      <td>NaN</td>\n      <td>NaN</td>\n      <td>NaN</td>\n      <td>NaN</td>\n      <td>NaN</td>\n      <td>NaN</td>\n      <td>NaN</td>\n      <td>NaN</td>\n      <td>NaN</td>\n      <td>NaN</td>\n    </tr>\n    <tr>\n      <th>1</th>\n      <td>https://wikipedia.org/wiki/ACAZ_C.2</td>\n      <td>https://www.wikipedia.org/wiki/File:ACAZ_C.2_(...</td>\n      <td>2</td>\n      <td>8.25 m (27 ft 1 in)</td>\n      <td>12.5 m (41 ft 0 in)</td>\n      <td>3.4 m (11 ft 2 in)</td>\n      <td>1 × Hispano-Suiza 12Ha V-12 water-cooled pisto...</td>\n      <td>NaN</td>\n      <td>250 km/h (160 mph, 130 kn)</td>\n      <td>NaN</td>\n      <td>...</td>\n      <td>NaN</td>\n      <td>NaN</td>\n      <td>NaN</td>\n      <td>NaN</td>\n      <td>NaN</td>\n      <td>NaN</td>\n      <td>NaN</td>\n      <td>NaN</td>\n      <td>NaN</td>\n      <td>NaN</td>\n    </tr>\n    <tr>\n      <th>2</th>\n      <td>https://wikipedia.org/wiki/Adamoli-Cattani_fig...</td>\n      <td>https://www.wikipedia.org/wiki/File:Adamoli-Ca...</td>\n      <td>1</td>\n      <td>6.10 m (20 ft 0 in)</td>\n      <td>8.60 m (28 ft 3 in)</td>\n      <td>NaN</td>\n      <td>1 × le Rhône M 9-cyl. air-cooled rotary piston...</td>\n      <td>NaN</td>\n      <td>186 km/h (116 mph, 100 kn)</td>\n      <td>NaN</td>\n      <td>...</td>\n      <td>NaN</td>\n      <td>NaN</td>\n      <td>NaN</td>\n      <td>NaN</td>\n      <td>NaN</td>\n      <td>NaN</td>\n      <td>NaN</td>\n      <td>NaN</td>\n      <td>NaN</td>\n      <td>NaN</td>\n    </tr>\n    <tr>\n      <th>3</th>\n      <td>https://wikipedia.org/wiki/Aerfer_Sagittario_2</td>\n      <td>https://www.wikipedia.org/wiki/File:Ambrosini_...</td>\n      <td>1</td>\n      <td>9.50 m (31 ft 2 in)</td>\n      <td>7.50 m (24 ft 7 in)</td>\n      <td>2.02 m (6 ft 8 in)</td>\n      <td>1 × Rolls-Royce Derwent 9 centrifugal-flow tur...</td>\n      <td>NaN</td>\n      <td>1,006 km/h (625 mph, 543 kn)</td>\n      <td>765 km (475 mi, 413 nmi)[citation needed]</td>\n      <td>...</td>\n      <td>NaN</td>\n      <td>NaN</td>\n      <td>NaN</td>\n      <td>NaN</td>\n      <td>NaN</td>\n      <td>NaN</td>\n      <td>NaN</td>\n      <td>NaN</td>\n      <td>NaN</td>\n      <td>NaN</td>\n    </tr>\n    <tr>\n      <th>4</th>\n      <td>https://wikipedia.org/wiki/AEG_Dr.I</td>\n      <td>https://www.wikipedia.org/wiki/File:AEG_Dr.I_1...</td>\n      <td>1</td>\n      <td>6.1 m (20 ft 0 in)</td>\n      <td>9.4 m (30 ft 10 in)</td>\n      <td>NaN</td>\n      <td>1 × Mercedes D.IIIa[2] 6-cyl water-cooled in-l...</td>\n      <td>NaN</td>\n      <td>170 km/h (110 mph, 92 kn)</td>\n      <td>NaN</td>\n      <td>...</td>\n      <td>NaN</td>\n      <td>NaN</td>\n      <td>NaN</td>\n      <td>NaN</td>\n      <td>NaN</td>\n      <td>NaN</td>\n      <td>NaN</td>\n      <td>NaN</td>\n      <td>NaN</td>\n      <td>NaN</td>\n    </tr>\n  </tbody>\n</table>\n<p>5 rows × 310 columns</p>\n</div>"
     },
     "execution_count": 93,
     "metadata": {},
     "output_type": "execute_result"
    }
   ],
   "source": [
    "details.head()"
   ]
  },
  {
   "cell_type": "code",
   "execution_count": 94,
   "metadata": {
    "pycharm": {
     "name": "#%%\n"
    }
   },
   "outputs": [],
   "source": [
    "nans = details.isna().sum()"
   ]
  },
  {
   "cell_type": "code",
   "execution_count": 95,
   "metadata": {
    "pycharm": {
     "name": "#%%\n"
    }
   },
   "outputs": [],
   "source": [
    "one_two_matching = re.compile(\"((Two)|(One)|(\\d+))\", re.IGNORECASE)\n",
    "crew_cleaned = details[\"Crew\"].str.extract(one_two_matching)[0]\n",
    "\n",
    "one_regex = re.compile(\"(one)\", re.IGNORECASE)\n",
    "two_regex = re.compile(\"(two)\", re.IGNORECASE)\n",
    "crew_cleaned = crew_cleaned.replace(one_regex, 1)\n",
    "crew_cleaned = crew_cleaned.replace(two_regex, 2)\n",
    "\n",
    "crew_cleaned = pd.to_numeric(crew_cleaned)\n",
    "\n",
    "cleaned_data[\"Crew\"] = crew_cleaned\n"
   ]
  },
  {
   "cell_type": "code",
   "execution_count": 96,
   "outputs": [],
   "source": [
    "meter_regex = re.compile(\"(((\\d+)?.?(\\d+))(\\s*m))\", re.IGNORECASE)\n",
    "\n",
    "def get_meters(data: pd.Series):\n",
    "    data = data.str.extract(meter_regex)[1]\n",
    "    unwanted_chars = re.compile(\"[(),]\")\n",
    "    data = data.str.replace(unwanted_chars, \"\")\n",
    "    data = pd.to_numeric(data)\n",
    "    return data\n"
   ],
   "metadata": {
    "collapsed": false,
    "pycharm": {
     "name": "#%%\n"
    }
   }
  },
  {
   "cell_type": "code",
   "execution_count": 97,
   "outputs": [],
   "source": [
    "meter_columns = details[[\"Wing area\",\n",
    "                         \"Service ceiling\",\n",
    "                         \"Rate of climb\",\n",
    "                         \"Wingspan\",\n",
    "                         \"Height\",\n",
    "                         \"Length\"]].apply(get_meters)"
   ],
   "metadata": {
    "collapsed": false,
    "pycharm": {
     "name": "#%%\n"
    }
   }
  },
  {
   "cell_type": "code",
   "execution_count": 98,
   "outputs": [],
   "source": [
    "cleaned_data = pd.concat([cleaned_data, meter_columns], axis=1)"
   ],
   "metadata": {
    "collapsed": false,
    "pycharm": {
     "name": "#%%\n"
    }
   }
  },
  {
   "cell_type": "code",
   "execution_count": 99,
   "outputs": [],
   "source": [
    "raw_speed = details[\"Maximum speed\"]\n",
    "speed_extract = re.compile(\"(((\\d+)(.\\d+)?)(\\s*km/h))\", re.IGNORECASE)\n",
    "mach_extract = re.compile(\"(mach\\s*)((\\d+)(\\.\\d+)?)\", re.IGNORECASE)\n",
    "speed_kmh = raw_speed.str.extract(speed_extract)[1]\n",
    "speed_kmh = speed_kmh.str.replace(\",\", \"\")\n",
    "highest_speed_extract = re.compile(\"(\\d+)–\")\n",
    "speed_kmh = speed_kmh.str.replace(highest_speed_extract, \"\")\n",
    "speed_kmh = pd.to_numeric(speed_kmh)\n",
    "\n",
    "machs = pd.to_numeric(raw_speed.str.extract(mach_extract)[1])\n",
    "\n",
    "speed_kmh = speed_kmh.fillna(machs * 1234.8)\n",
    "\n",
    "cleaned_data[\"Maximum speed\"] = speed_kmh"
   ],
   "metadata": {
    "collapsed": false,
    "pycharm": {
     "name": "#%%\n"
    }
   }
  },
  {
   "cell_type": "code",
   "execution_count": 100,
   "outputs": [],
   "source": [
    "raw_weight = details[[\"Empty weight\", \"Gross weight\"]]\n",
    "\n",
    "weight_regex = re.compile(\"(((\\d+)(.\\d+)?)(\\s*kg))\", re.IGNORECASE)\n",
    "\n",
    "def get_weight(data: pd.Series):\n",
    "    data = data.str.extract(weight_regex)[1]\n",
    "    data = data.str.replace(\",\", \"\")\n",
    "    data = pd.to_numeric(data)\n",
    "    return data\n",
    "\n",
    "weight = raw_weight.apply(get_weight)\n",
    "cleaned_data = pd.concat([cleaned_data, weight], axis=1)\n"
   ],
   "metadata": {
    "collapsed": false,
    "pycharm": {
     "name": "#%%\n"
    }
   }
  },
  {
   "cell_type": "code",
   "execution_count": 101,
   "outputs": [],
   "source": [
    "cleaned_jets = pd.DataFrame()\n"
   ],
   "metadata": {
    "collapsed": false,
    "pycharm": {
     "name": "#%%\n"
    }
   }
  },
  {
   "cell_type": "code",
   "execution_count": 102,
   "outputs": [],
   "source": [
    "raw_number_created = jets[\"number created\"]\n",
    "number_extract = re.compile(\"((\\d+)(.\\d+)?)\")\n",
    "number_created = raw_number_created.str.extract(number_extract)[0]\n",
    "number_created = number_created.str.replace(\",\", \"\")\n",
    "number_created = pd.to_numeric(number_created)\n",
    "\n",
    "cleaned_jets[\"number created\"] = number_created"
   ],
   "metadata": {
    "collapsed": false,
    "pycharm": {
     "name": "#%%\n"
    }
   }
  },
  {
   "cell_type": "code",
   "source": [
    "raw_year = jets[\"year\"]\n",
    "year_regex = re.compile(\"(\\d+)\")\n",
    "year = raw_year.str.extract(year_regex)[0]\n",
    "year = pd.to_numeric(year)\n",
    "\n",
    "cleaned_jets[\"year\"] = year\n"
   ],
   "metadata": {
    "collapsed": false,
    "pycharm": {
     "name": "#%%\n"
    }
   },
   "execution_count": 103,
   "outputs": []
  },
  {
   "cell_type": "code",
   "execution_count": 104,
   "outputs": [
    {
     "data": {
      "text/plain": "1303"
     },
     "execution_count": 104,
     "metadata": {},
     "output_type": "execute_result"
    }
   ],
   "source": [
    "cleaned_jets = pd.concat([cleaned_jets, jets.drop([\"year\", \"number created\"], axis=1)], axis=1)\n",
    "clean = pd.concat([cleaned_jets, cleaned_data], axis=1)\n",
    "len(clean)"
   ],
   "metadata": {
    "collapsed": false,
    "pycharm": {
     "name": "#%%\n"
    }
   }
  },
  {
   "cell_type": "code",
   "execution_count": 105,
   "outputs": [
    {
     "data": {
      "text/plain": "1229"
     },
     "execution_count": 105,
     "metadata": {},
     "output_type": "execute_result"
    }
   ],
   "source": [
    "with open(\"jet_details.json\") as f:\n",
    "    og_detail_data = json.load(f)\n",
    "len(og_detail_data)\n"
   ],
   "metadata": {
    "collapsed": false,
    "pycharm": {
     "name": "#%%\n"
    }
   }
  },
  {
   "cell_type": "code",
   "execution_count": 106,
   "outputs": [],
   "source": [
    "all_data = []\n",
    "for item in og_detail_data:\n",
    "    data_to_add = clean[clean[\"url\"] == item[\"url\"]].to_dict(\"records\")\n",
    "    if len(data_to_add) > 0:\n",
    "        item.update(data_to_add[0])\n",
    "        all_data.append(item)"
   ],
   "metadata": {
    "collapsed": false,
    "pycharm": {
     "name": "#%%\n"
    }
   }
  },
  {
   "cell_type": "code",
   "execution_count": 108,
   "outputs": [],
   "source": [
    "with open('final_jet_data.json', 'w', encoding='utf-8') as f:\n",
    "    json.dump(all_data, f, ensure_ascii=False, indent=4)"
   ],
   "metadata": {
    "collapsed": false,
    "pycharm": {
     "name": "#%%\n"
    }
   }
  }
 ],
 "metadata": {
  "kernelspec": {
   "display_name": "Python 3",
   "language": "python",
   "name": "python3"
  },
  "language_info": {
   "codemirror_mode": {
    "name": "ipython",
    "version": 3
   },
   "file_extension": ".py",
   "mimetype": "text/x-python",
   "name": "python",
   "nbconvert_exporter": "python",
   "pygments_lexer": "ipython3",
   "version": "3.8.5"
  }
 },
 "nbformat": 4,
 "nbformat_minor": 1
}